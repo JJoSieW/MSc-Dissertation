{
 "cells": [
  {
   "cell_type": "code",
   "execution_count": null,
   "id": "139f8389",
   "metadata": {},
   "outputs": [],
   "source": [
    "import pandas as pd  \n",
    "import numpy as np  \n",
    "import matplotlib.pyplot as plt\n",
    "from scipy.stats import ttest_rel"
   ]
  },
  {
   "cell_type": "code",
   "execution_count": null,
   "id": "35d1e913",
   "metadata": {},
   "outputs": [],
   "source": [
    "def ttest(file_name, col, col_rename):\n",
    "    path = 'C:/Users/zhang/Desktop/ami/survey/result(final)/t-test/'\n",
    "    file_path = path+file_name\n",
    "    df = pd.read_csv(file_path) \n",
    "    df1 = df[[col[0], col[1], col[2]]].dropna()\n",
    "    df2 = df1.rename(columns={col[0]: col_rename[0], col[1]: col_rename[1]}) \n",
    "\n",
    "    data = [df2[col_rename[0]],df2[col_rename[1]],df2[col_rename[2]]]\n",
    "    plt.boxplot(data,labels=(col_rename[0],col_rename[1],col_rename[2]),vert = True)\n",
    "    plt.show() \n",
    "    print(col_rename[0],col_rename[1],': ',ttest_rel(df2[col_rename[0]], df2[col_rename[1]]))\n",
    "    print(col_rename[0],col_rename[2],': ',ttest_rel(df2[col_rename[0]], df2[col_rename[2]]))\n",
    "    print(col_rename[1],col_rename[2],': ',ttest_rel(df2[col_rename[1]], df2[col_rename[2]]))\n",
    "\n",
    "    "
   ]
  },
  {
   "cell_type": "markdown",
   "id": "e15c0f98",
   "metadata": {},
   "source": [
    "# 1. ttest for 1)music quality and 2)emotion score"
   ]
  },
  {
   "cell_type": "code",
   "execution_count": null,
   "id": "70fcbaa2",
   "metadata": {
    "scrolled": false
   },
   "outputs": [],
   "source": [
    "file_name = 'emotion_score/allemo.csv'\n",
    "\n",
    "# music quality\n",
    "col1 = ['bstructure', 'estructure', 'mstructure']\n",
    "col2 = ['bcorrectness', 'ecorrectness', 'mcorrectness']\n",
    "col3 = ['brichness', 'erichness', 'mrichness']\n",
    "col4 = ['boverall', 'eoverall', 'moverall']\n",
    "# emotion score\n",
    "col5 = ['bemotion', 'eemotion', 'memotion']\n",
    "cols = [col1, col2, col3, col4, col5]\n",
    "\n",
    "print(file_name)\n",
    "for col in cols:\n",
    "    print(col)\n",
    "    col_rename = col\n",
    "    ttest(file_name, col, col_rename)"
   ]
  },
  {
   "cell_type": "markdown",
   "id": "44f6ec10",
   "metadata": {},
   "source": [
    "# 2 ttest for emotion score computed from word"
   ]
  },
  {
   "cell_type": "markdown",
   "id": "2d4f8733",
   "metadata": {},
   "source": [
    "## q1"
   ]
  },
  {
   "cell_type": "code",
   "execution_count": null,
   "id": "bdce5f01",
   "metadata": {},
   "outputs": [],
   "source": [
    "file_name = 'word_emo/word_emo_ttest.csv'\n",
    "\n",
    "col1 = ['q1_baseline_word_emo', 'q1_emopia_word_emo', 'q1_myemo_word_emo']\n",
    "\n",
    "cols = [col1]\n",
    "\n",
    "print(file_name)\n",
    "for col in cols:\n",
    "    print(col)\n",
    "    col_rename = col\n",
    "    ttest(file_name, col, col_rename)"
   ]
  },
  {
   "cell_type": "markdown",
   "id": "05ebbba8",
   "metadata": {},
   "source": [
    "## q2"
   ]
  },
  {
   "cell_type": "code",
   "execution_count": null,
   "id": "7f574e99",
   "metadata": {},
   "outputs": [],
   "source": [
    "file_name = 'word_emo/word_emo_ttest.csv'\n",
    "\n",
    "col1 = ['q2_baseline_word_emo', 'q2_emopia_word_emo', 'q2_myemo_word_emo']\n",
    "\n",
    "cols = [col1]\n",
    "\n",
    "print(file_name)\n",
    "for col in cols:\n",
    "    print(col)\n",
    "    col_rename = col\n",
    "    ttest(file_name, col, col_rename)"
   ]
  },
  {
   "cell_type": "markdown",
   "id": "7df6381e",
   "metadata": {},
   "source": [
    "## q3"
   ]
  },
  {
   "cell_type": "code",
   "execution_count": null,
   "id": "19db6ead",
   "metadata": {},
   "outputs": [],
   "source": [
    "file_name = 'word_emo/word_emo_ttest.csv'\n",
    "\n",
    "col1 = ['q3_baseline_word_emo', 'q3_emopia_word_emo', 'q3_myemo_word_emo']\n",
    "\n",
    "cols = [col1]\n",
    "\n",
    "print(file_name)\n",
    "for col in cols:\n",
    "    print(col)\n",
    "    col_rename = col\n",
    "    ttest(file_name, col, col_rename)"
   ]
  },
  {
   "cell_type": "markdown",
   "id": "4ad64ad4",
   "metadata": {},
   "source": [
    "## q4"
   ]
  },
  {
   "cell_type": "code",
   "execution_count": null,
   "id": "04ae2c4b",
   "metadata": {},
   "outputs": [],
   "source": [
    "file_name = 'word_emo/word_emo_ttest.csv'\n",
    "\n",
    "col1 = ['q4_baseline_word_emo', 'q4_emopia_word_emo', 'q4_myemo_word_emo']\n",
    "\n",
    "cols = [col1]\n",
    "\n",
    "print(file_name)\n",
    "for col in cols:\n",
    "    print(col)\n",
    "    col_rename = col\n",
    "    ttest(file_name, col, col_rename)"
   ]
  },
  {
   "cell_type": "markdown",
   "id": "9ed39ea7",
   "metadata": {},
   "source": [
    "## all emotion"
   ]
  },
  {
   "cell_type": "code",
   "execution_count": null,
   "id": "d89ae8d1",
   "metadata": {},
   "outputs": [],
   "source": [
    "file_name = 'word_emo/word_emo_ttest.csv'\n",
    "\n",
    "col1 = ['allemo_baseline_word_emo', 'allemo_emopia_word_emo', 'allemo_myemo_word_emo']\n",
    "\n",
    "cols = [col1]\n",
    "\n",
    "print(file_name)\n",
    "for col in cols:\n",
    "    print(col)\n",
    "    col_rename = col\n",
    "    ttest(file_name, col, col_rename)"
   ]
  }
 ],
 "metadata": {
  "kernelspec": {
   "display_name": "Python 3",
   "language": "python",
   "name": "python3"
  },
  "language_info": {
   "codemirror_mode": {
    "name": "ipython",
    "version": 3
   },
   "file_extension": ".py",
   "mimetype": "text/x-python",
   "name": "python",
   "nbconvert_exporter": "python",
   "pygments_lexer": "ipython3",
   "version": "3.8.8"
  },
  "vscode": {
   "interpreter": {
    "hash": "369f2c481f4da34e4445cda3fffd2e751bd1c4d706f27375911949ba6bb62e1c"
   }
  }
 },
 "nbformat": 4,
 "nbformat_minor": 5
}
